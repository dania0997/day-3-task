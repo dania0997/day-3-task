{
 "cells": [
  {
   "cell_type": "code",
   "execution_count": 32,
   "metadata": {},
   "outputs": [
    {
     "name": "stdout",
     "output_type": "stream",
     "text": [
      "Dania\n",
      "working on task at 12 pm\n"
     ]
    }
   ],
   "source": [
    "# print my Name\n",
    "print(\"Dania\")\n",
    "print(\"working on task at 12 pm\")\n",
    " "
   ]
  },
  {
   "cell_type": "code",
   "execution_count": 33,
   "metadata": {},
   "outputs": [],
   "source": [
    "# task 1 caculate tax rate wrt age\n",
    "def calculate_tax_rate(age):\n",
    "    if age < 18:\n",
    "        return \"no tax\"\n",
    "    elif 18 <= age <= 30:\n",
    "        return \"tax is 1.2%\"\n",
    "    elif 30 <= age <= 50:\n",
    "        return \"tax is 2%\"\n",
    "    else:\n",
    "        return \"happy no tax\"\n",
    "    \n",
    "    # Input age from the user\n",
    "    age = int(input(\"Enter your Age : \"))\n",
    "    tax_rate = calculate_tax_rate(age)\n",
    "    print(tax_rate)\n",
    "    \n",
    "     \n",
    "    \n",
    "    \n",
    "    \n",
    "    \n",
    "    \n",
    "    "
   ]
  },
  {
   "cell_type": "code",
   "execution_count": 34,
   "metadata": {},
   "outputs": [
    {
     "name": "stdout",
     "output_type": "stream",
     "text": [
      "No tax\n"
     ]
    }
   ],
   "source": [
    "def calculate_tax_rate(age):\n",
    "    if age < 18:\n",
    "        return \"No tax\"\n",
    "    elif 18 <= age <= 30:\n",
    "        return \"Tax rate: 1.2%\"\n",
    "    elif 30 < age <= 50:\n",
    "        return \"Tax rate: 2%\"\n",
    "    else:\n",
    "        return \"No tax\"\n",
    "\n",
    "# Input age from the user\n",
    "age = int(input(\"Enter your age: \"))\n",
    "\n",
    "# Calculate and display the tax rate\n",
    "tax_rate = calculate_tax_rate(age)\n",
    "print(tax_rate)\n"
   ]
  },
  {
   "cell_type": "code",
   "execution_count": 35,
   "metadata": {},
   "outputs": [
    {
     "name": "stdout",
     "output_type": "stream",
     "text": [
      "3.9\n"
     ]
    }
   ],
   "source": [
    "# task 2\n",
    "#convert string to float\n",
    "string_num = \"3.9\"\n",
    "float_num = float(string_num)\n",
    "print(float_num)\n"
   ]
  },
  {
   "cell_type": "code",
   "execution_count": 36,
   "metadata": {},
   "outputs": [
    {
     "name": "stdout",
     "output_type": "stream",
     "text": [
      "15.0\n"
     ]
    }
   ],
   "source": [
    "# float to int\n",
    "int_num = 15\n",
    "float_num = float(int_num)\n",
    "print(float_num)\n"
   ]
  },
  {
   "cell_type": "code",
   "execution_count": 44,
   "metadata": {},
   "outputs": [
    {
     "name": "stdout",
     "output_type": "stream",
     "text": [
      "I am a programmer\n"
     ]
    }
   ],
   "source": [
    "# task 3\n",
    "# show random  quotes\n",
    "import random\n",
    "quotes = ['I am a programmer', 'Python is the best programming language', 'but python to snake hai']\n",
    "def random_quote():\n",
    "    selected_quote = random.choice(quotes)\n",
    "    print(selected_quote)\n",
    "\n",
    "# Call the function to display a random quote\n",
    "random_quote()\n",
    " \n",
    "\n",
    "    \n",
    "\n"
   ]
  }
 ],
 "metadata": {
  "kernelspec": {
   "display_name": "Python 3",
   "language": "python",
   "name": "python3"
  },
  "language_info": {
   "codemirror_mode": {
    "name": "ipython",
    "version": 3
   },
   "file_extension": ".py",
   "mimetype": "text/x-python",
   "name": "python",
   "nbconvert_exporter": "python",
   "pygments_lexer": "ipython3",
   "version": "3.11.3"
  },
  "orig_nbformat": 4
 },
 "nbformat": 4,
 "nbformat_minor": 2
}
